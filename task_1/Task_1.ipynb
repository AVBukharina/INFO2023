{
  "nbformat": 4,
  "nbformat_minor": 0,
  "metadata": {
    "_change_revision": 36,
    "_is_fork": false,
    "colab": {
      "provenance": [],
      "include_colab_link": true
    },
    "kernelspec": {
      "display_name": "Python 3",
      "language": "python",
      "name": "python3"
    },
    "language_info": {
      "codemirror_mode": {
        "name": "ipython",
        "version": 3
      },
      "file_extension": ".py",
      "mimetype": "text/x-python",
      "name": "python",
      "nbconvert_exporter": "python",
      "pygments_lexer": "ipython3",
      "version": "3.7.3"
    }
  },
  "cells": [
    {
      "cell_type": "markdown",
      "metadata": {
        "id": "view-in-github",
        "colab_type": "text"
      },
      "source": [
        "<a href=\"https://colab.research.google.com/github/AVBukharina/INFO2023/blob/main/Task_1.ipynb\" target=\"_parent\"><img src=\"https://colab.research.google.com/assets/colab-badge.svg\" alt=\"Open In Colab\"/></a>"
      ]
    },
    {
      "cell_type": "code",
      "source": [
        "import requests\n",
        "from bs4 import BeautifulSoup\n",
        "import os\n",
        "import time\n",
        "\n",
        "links = []\n",
        "first_link = 'https://kpfu.ru/'\n",
        "j = -1\n",
        "available_links = []\n",
        "\n",
        "\n",
        "def get_links(link):\n",
        "    print(link)\n",
        "    resp = requests.get(link)\n",
        "    tree = BeautifulSoup(resp.content, 'html.parser')\n",
        "    find_links = tree.find_all('a')\n",
        "    links_get = []\n",
        "    global links\n",
        "    global available_links\n",
        "    global j\n",
        "    for l in find_links:\n",
        "        links_get.append(l.get('href'))\n",
        "    links_get = [i for i in links_get if i]\n",
        "    page_links = []\n",
        "    for i in links_get:\n",
        "        if 'http' not in i and i not in '#/ ':\n",
        "            i = first_link + i\n",
        "        if i not in available_links and i not in '#/ ' and first_link in i:\n",
        "            available_links.append(i)\n",
        "            page_links.append(i)\n",
        "    if not page_links:\n",
        "        print(len(links))\n",
        "        j += 1\n",
        "        get_links(available_links[j])\n",
        "\n",
        "    try:\n",
        "        print(available_links)\n",
        "        print(page_links)\n",
        "    except:\n",
        "        print(\"Ошибка связанная с попыткой напичатать available_links или page_links, стр 37-38\")\n",
        "    for i in range(len(page_links)):\n",
        "        try:\n",
        "            res = requests.get(page_links[i])\n",
        "            soup = BeautifulSoup(res.content, 'html.parser')\n",
        "            if len(soup.text.split()) > 1000 and page_links[i] not in links:\n",
        "                links.append(page_links[i])\n",
        "        except:\n",
        "            print(\"Let me sleep for 5 seconds\")\n",
        "            time.sleep(5)\n",
        "            continue\n",
        "    if len(links) < 100:\n",
        "        print(len(links))\n",
        "        j += 1\n",
        "        get_links(available_links[j])\n",
        "\n",
        "\n",
        "def write_content(link):\n",
        "    get_links(link)\n",
        "    global links\n",
        "    os.system(r'nul>index.txt')\n",
        "    for i in range(len(links)):\n",
        "        try:\n",
        "            res = requests.get(links[i])\n",
        "            soup = BeautifulSoup(res.content, 'html.parser')\n",
        "        except:\n",
        "            print(\"Let me sleep for 5 seconds\")\n",
        "            time.sleep(5)\n",
        "            continue\n",
        "        with open(f'data/{i}.txt', 'w', encoding='utf-8') as out, open('index.txt', 'a', encoding='utf-8') as file:\n",
        "            out.write(str(soup.text.strip()))\n",
        "            file.write(f'{i} {links[i]}\\n')\n",
        "\n",
        "\n",
        "if __name__ == \"__main__\":\n",
        "    write_content(first_link)"
      ],
      "metadata": {
        "colab": {
          "base_uri": "https://localhost:8080/"
        },
        "id": "eO-6-FuWOG3j",
        "outputId": "6ad5779c-7a57-481b-91e6-c912a7ba1fb4"
      },
      "execution_count": null,
      "outputs": [
        {
          "output_type": "stream",
          "name": "stdout",
          "text": [
            "https://kpfu.ru/\n",
            "['https://kpfu.ru/', 'https://kpfu.ru/eng', 'https://kpfu.ru/cn', 'https://kpfu.ru/es', 'https://kpfu.ru/tel:+78432333000', 'https://kpfu.ru/tel:+78432065289', 'https://kpfu.ru/sveden', 'https://kpfu.ru/about_university/cifry-i-fakty', 'https://kpfu.ru/parent_student', 'https://kpfu.ru/edu/dopolnitelnoe-obrazovanie', 'https://kpfu.ru/edu/shkoly', 'https://kpfu.ru/library', 'https://kpfu.ru/priority2030', 'https://kpfu.ru/about_university', 'https://kpfu.ru/about_university/struct', 'https://kpfu.ru/about_university/document', 'https://kpfu.ru/about_university/istoriya-universiteta', 'https://kpfu.ru/about_university/strategiya-razvitiya', 'https://kpfu.ru/about_university/internet-priemnaya', 'https://kpfu.ru/about_university/dostizheniya-kfu', 'https://kpfu.ru/main_page?p_sub=6226', 'https://kpfu.ru/about_university/karta-vseh-obektov', 'https://kpfu.ru/staff/telefonnyj-spravochnik-kfu', 'https://kpfu.ru/staff/sotrudniki-kfu', 'https://kpfu.ru/studentu/studenty-kfu', 'https://kpfu.ru/about_university/raskrytie-informacii', 'https://kpfu.ru/about_university/informaciya-o-federalnyh-gosudarstvennyh', 'https://kpfu.ru/about_university/nacionalnye-proekty', 'https://kpfu.ru/edu', 'https://kpfu.ru/institutes', 'https://kpfu.ru/do/normativnoe-obespechenie', 'https://kpfu.ru/open', 'https://kpfu.ru/edu/kontingent-obuchajuschihsya', 'https://kpfu.ru/edu/vakantnye-mesta', 'https://kpfu.ru/edu/povyshennye-stipendii', 'https://kpfu.ru/studentu/ucheba/raspisanie', 'https://kpfu.ru/studentu/ucheba/zhurnal-uspevaemosti', 'https://kpfu.ru/do/uchebnyj-process/nezavisimaya-ocenka-kachestva-obrazovaniya', 'https://kpfu.ru/do/struktura-i-funkcii/otdel-razvitiya-karery/praktika-165', 'https://kpfu.ru/international/obuchenie-i-stazhirovki-za-rubezhom', 'https://kpfu.ru/edu/dovuzovskoe-obrazovanie-v-kfu', 'https://kpfu.ru/edu/fizika-dlya-vseh', 'https://kpfu.ru/geology-oil/stranichka-junyh-geologa', 'https://kpfu.ru/edu/mezhdunarodnaya-olimpiada-associacii-globalnye', 'https://kpfu.ru/science', 'https://kpfu.ru/unid', 'https://kpfu.ru/main_page?p_sub=5041', 'https://kpfu.ru/main_page?p_sub=5042', 'https://kpfu.ru/intellektualnaya-sobstvennost_122399.html', 'https://kpfu.ru/science/nauchnye-izdaniya', 'https://kpfu.ru/nauka-i-issledovaniya/plans-research', 'https://kpfu.ru/science/konferencii/perechen-nauchno-tehnicheskih-meropriyatij-kfu', 'https://kpfu.ru/science/molodye-uchenye-i-specialisty', 'https://kpfu.ru/science/nauchno-issledovatelskaya-rabota-studentov-nirs', 'https://kpfu.ru/biology-medicine/nauchnyj-centr-regulyatornaya-genomika', 'https://kpfu.ru/Https://carbon.kpfu.ru/', 'https://kpfu.ru/science/granty', 'https://kpfu.ru/science/centry-kollektivnogo-dostupa', 'https://kpfu.ru/science/megagrants', 'https://kpfu.ru/glavnaya/zdravoohranenie', 'https://kpfu.ru/social/o-merah-po-preduprezhdeniju-koronavirusa-i-117857', 'https://kpfu.ru/glavnaya/zdravoohranenie/nauchnye-issledovaniya', 'https://kpfu.ru/biology-medicine/obrazovanie/specialitet', 'https://kpfu.ru/biology-medicine/uznat-bolshe-ob-institute/abiturientam/osnovnye-obrazovatelnye-programmy-vysshej-shkoly', 'https://kpfu.ru/biology-medicine/obrazovanie/centr-nepreryvnogo-medicinskogo-obrazovaniya-i/ordinatura', 'https://kpfu.ru/biology-medicine/obrazovanie/centr-nepreryvnogo-medicinskogo-obrazovaniya-i/dopolnitelnoe-obrazovanie', 'https://kpfu.ru/biology-medicine/nauka', 'https://kpfu.ru/biology-medicine/nkc', 'https://kpfu.ru/biology-medicine/nauchno-klinicheskij-centr-profilakticheskoj', 'https://kpfu.ru/biology-medicine/struktura-instituta/centr-simulyacionnogo-i-imitacionnogo-obucheniya', 'https://kpfu.ru/biology-medicine/akkreditaciya-specialistov', 'https://kpfu.ru/biology-medicine/struktura-instituta/kafedry/kafedra-stomatologii-i-implantologii/uchebnaya-rabota', 'https://kpfu.ru/biology-medicine/struktura-instituta/centr-simulyacionnogo-i-imitacionnogo-obucheniya/inzhiniringovyj-centr-medicinskih-simulyatorov', 'https://kpfu.ru/international', 'https://kpfu.ru/international-relations', 'https://kpfu.ru/international/razvitie-sotrudnichestva', 'https://kpfu.ru/international/priglashenie-inostrannogo-uchenogo', 'https://kpfu.ru/international/migracionnoe-soprovozhdenie-inostrannyh-grazhdan', 'https://kpfu.ru/international/inostrannomu-studentu', 'https://kpfu.ru/international/priznanie-inostrannogo-obrazovaniya', 'https://kpfu.ru/international/adaptation', 'https://kpfu.ru/international/dokumenty', 'https://kpfu.ru/social', 'https://kpfu.ru/dis/obuchenie-cherez-microsoft-teams', 'https://kpfu.ru/main_page?p_sub=7&p_id=2', 'https://kpfu.ru/main_page?p_sub=5056', 'https://kpfu.ru/social-org', 'https://kpfu.ru/alumnus', 'https://kpfu.ru/social/predstavitelyam-smi', 'https://kpfu.ru/social/socialnaya-infrastruktura', 'https://kpfu.ru/job', 'https://kpfu.ru/about_university/kfu-v-proekte-39kulturnoe-nasledie-rossii39', 'https://kpfu.ru/direkciya-sportivnyh-kompleksov', 'https://kpfu.ru/direkciya-sportivnyh-kompleksov/programma-ozdorovleniya-rabotnikov', 'https://kpfu.ru/social/poleznye-ssylki', 'https://kpfu.ru/social/nauka-i-universitety', 'https://kpfu.ru/chelny/kiber-avto-teh', 'https://kpfu.ru/do/uchebnyj-process/osnovnye-obrazovatelnye-programmy', 'https://kpfu.ru/do/uchebnyj-process/uchebnye-plany', 'https://kpfu.ru/prioritetnye-napravleniya', 'https://kpfu.ru/science/konkursy-i-granty/konkursy-i-granty', 'https://kpfu.ru/science/upravlenie-nauchno-issledovatelskoj-deyatelnosti', 'https://kpfu.ru/ictis/mobilnye-prilozheniya', 'https://kpfu.ru/sveden/struct/upravlencheskie-podrazdeleniya/intellektualnaya-sobstvennost/obekty-intellektualnoj-sobstvennosti', 'https://kpfu.ru/institutes/institut-upravleniya-ekonomiki-i-finansov/struktura/kafedry/otkrytyj-institut-innovacionnogo', 'https://kpfu.ru/department-of-security/bezopasnost-universiteta/antikorrupcionnaya-deyatelnost', 'https://kpfu.ru/department-of-security/bezopasnost-universiteta/antiterroristicheskaya-deyatelnost', 'https://kpfu.ru/department-of-security/bezopasnost-universiteta/centr-mediacii', 'https://kpfu.ru/department-of-security/bezopasnost-universiteta/profilaktika-narkomanii-v-molodezhnoj-srede', 'https://kpfu.ru/department-of-security/bezopasnost-universiteta/pravila-i-normy-lichnoj-bezopasnosti', 'https://kpfu.ru/department-of-security/bezopasnost-universiteta/telefon-doveriya', 'https://kpfu.ru/department-of-security/bezopasnost-universiteta/dezhurno-dispetcherskoj-sluzhba', 'https://kpfu.ru/sveden/common/', 'https://kpfu.ru/admissions', 'https://kpfu.ru/mailto:priem@kpfu.ru', 'https://kpfu.ru/mailto:public.mail@kpfu.ru', 'https://kpfu.ru/mailto:pressa@kpfu.ru', 'https://kpfu.ru/mailto:work@kpfu.ru', 'https://kpfu.ru/mailto:admission@kpfu.ru', 'https://kpfu.ru/main_page?p_sub=123651&p_view=1', 'https://kpfu.ru/main_page?p_cid=402778&p_view=1&p_random=347', 'https://kpfu.ru/cpr/strategicheskie-programmy/prioritet-2030', 'https://kpfu.ru/about_university/strategicheskie-partnery', 'https://kpfu.ru/edu/distancionnoe-obuchenie-v-kfu', 'https://kpfu.ru/international/proekty-i-granty', 'https://kpfu.ru/international/centry-mezhdunarodnogo-sotrudnichestva', 'https://kpfu.ru/international/yazykovoe-testirovanie', 'https://kpfu.ru/international/buddy-programm', 'https://kpfu.ru/ictis/obuchenie-cherez-microsoft-teams', 'https://kpfu.ru/main_page?p_sub=88', 'https://kpfu.ru/physical', 'https://kpfu.ru/ino', 'https://kpfu.ru/main_page?p_sub=22881', 'https://kpfu.ru/imoiv', 'https://kpfu.ru/institutes/isfnmk', 'https://kpfu.ru/institutes/institut-upravleniya-ekonomiki-i-finansov', 'https://kpfu.ru/institutes/institut-dizajna-i-prostranstvennyh-iskusstv', 'https://kpfu.ru/chelny', 'https://kpfu.ru/elabuga']\n",
            "['https://kpfu.ru/', 'https://kpfu.ru/eng', 'https://kpfu.ru/cn', 'https://kpfu.ru/es', 'https://kpfu.ru/tel:+78432333000', 'https://kpfu.ru/tel:+78432065289', 'https://kpfu.ru/sveden', 'https://kpfu.ru/about_university/cifry-i-fakty', 'https://kpfu.ru/parent_student', 'https://kpfu.ru/edu/dopolnitelnoe-obrazovanie', 'https://kpfu.ru/edu/shkoly', 'https://kpfu.ru/library', 'https://kpfu.ru/priority2030', 'https://kpfu.ru/about_university', 'https://kpfu.ru/about_university/struct', 'https://kpfu.ru/about_university/document', 'https://kpfu.ru/about_university/istoriya-universiteta', 'https://kpfu.ru/about_university/strategiya-razvitiya', 'https://kpfu.ru/about_university/internet-priemnaya', 'https://kpfu.ru/about_university/dostizheniya-kfu', 'https://kpfu.ru/main_page?p_sub=6226', 'https://kpfu.ru/about_university/karta-vseh-obektov', 'https://kpfu.ru/staff/telefonnyj-spravochnik-kfu', 'https://kpfu.ru/staff/sotrudniki-kfu', 'https://kpfu.ru/studentu/studenty-kfu', 'https://kpfu.ru/about_university/raskrytie-informacii', 'https://kpfu.ru/about_university/informaciya-o-federalnyh-gosudarstvennyh', 'https://kpfu.ru/about_university/nacionalnye-proekty', 'https://kpfu.ru/edu', 'https://kpfu.ru/institutes', 'https://kpfu.ru/do/normativnoe-obespechenie', 'https://kpfu.ru/open', 'https://kpfu.ru/edu/kontingent-obuchajuschihsya', 'https://kpfu.ru/edu/vakantnye-mesta', 'https://kpfu.ru/edu/povyshennye-stipendii', 'https://kpfu.ru/studentu/ucheba/raspisanie', 'https://kpfu.ru/studentu/ucheba/zhurnal-uspevaemosti', 'https://kpfu.ru/do/uchebnyj-process/nezavisimaya-ocenka-kachestva-obrazovaniya', 'https://kpfu.ru/do/struktura-i-funkcii/otdel-razvitiya-karery/praktika-165', 'https://kpfu.ru/international/obuchenie-i-stazhirovki-za-rubezhom', 'https://kpfu.ru/edu/dovuzovskoe-obrazovanie-v-kfu', 'https://kpfu.ru/edu/fizika-dlya-vseh', 'https://kpfu.ru/geology-oil/stranichka-junyh-geologa', 'https://kpfu.ru/edu/mezhdunarodnaya-olimpiada-associacii-globalnye', 'https://kpfu.ru/science', 'https://kpfu.ru/unid', 'https://kpfu.ru/main_page?p_sub=5041', 'https://kpfu.ru/main_page?p_sub=5042', 'https://kpfu.ru/intellektualnaya-sobstvennost_122399.html', 'https://kpfu.ru/science/nauchnye-izdaniya', 'https://kpfu.ru/nauka-i-issledovaniya/plans-research', 'https://kpfu.ru/science/konferencii/perechen-nauchno-tehnicheskih-meropriyatij-kfu', 'https://kpfu.ru/science/molodye-uchenye-i-specialisty', 'https://kpfu.ru/science/nauchno-issledovatelskaya-rabota-studentov-nirs', 'https://kpfu.ru/biology-medicine/nauchnyj-centr-regulyatornaya-genomika', 'https://kpfu.ru/Https://carbon.kpfu.ru/', 'https://kpfu.ru/science/granty', 'https://kpfu.ru/science/centry-kollektivnogo-dostupa', 'https://kpfu.ru/science/megagrants', 'https://kpfu.ru/glavnaya/zdravoohranenie', 'https://kpfu.ru/social/o-merah-po-preduprezhdeniju-koronavirusa-i-117857', 'https://kpfu.ru/glavnaya/zdravoohranenie/nauchnye-issledovaniya', 'https://kpfu.ru/biology-medicine/obrazovanie/specialitet', 'https://kpfu.ru/biology-medicine/uznat-bolshe-ob-institute/abiturientam/osnovnye-obrazovatelnye-programmy-vysshej-shkoly', 'https://kpfu.ru/biology-medicine/obrazovanie/centr-nepreryvnogo-medicinskogo-obrazovaniya-i/ordinatura', 'https://kpfu.ru/biology-medicine/obrazovanie/centr-nepreryvnogo-medicinskogo-obrazovaniya-i/dopolnitelnoe-obrazovanie', 'https://kpfu.ru/biology-medicine/nauka', 'https://kpfu.ru/biology-medicine/nkc', 'https://kpfu.ru/biology-medicine/nauchno-klinicheskij-centr-profilakticheskoj', 'https://kpfu.ru/biology-medicine/struktura-instituta/centr-simulyacionnogo-i-imitacionnogo-obucheniya', 'https://kpfu.ru/biology-medicine/akkreditaciya-specialistov', 'https://kpfu.ru/biology-medicine/struktura-instituta/kafedry/kafedra-stomatologii-i-implantologii/uchebnaya-rabota', 'https://kpfu.ru/biology-medicine/struktura-instituta/centr-simulyacionnogo-i-imitacionnogo-obucheniya/inzhiniringovyj-centr-medicinskih-simulyatorov', 'https://kpfu.ru/international', 'https://kpfu.ru/international-relations', 'https://kpfu.ru/international/razvitie-sotrudnichestva', 'https://kpfu.ru/international/priglashenie-inostrannogo-uchenogo', 'https://kpfu.ru/international/migracionnoe-soprovozhdenie-inostrannyh-grazhdan', 'https://kpfu.ru/international/inostrannomu-studentu', 'https://kpfu.ru/international/priznanie-inostrannogo-obrazovaniya', 'https://kpfu.ru/international/adaptation', 'https://kpfu.ru/international/dokumenty', 'https://kpfu.ru/social', 'https://kpfu.ru/dis/obuchenie-cherez-microsoft-teams', 'https://kpfu.ru/main_page?p_sub=7&p_id=2', 'https://kpfu.ru/main_page?p_sub=5056', 'https://kpfu.ru/social-org', 'https://kpfu.ru/alumnus', 'https://kpfu.ru/social/predstavitelyam-smi', 'https://kpfu.ru/social/socialnaya-infrastruktura', 'https://kpfu.ru/job', 'https://kpfu.ru/about_university/kfu-v-proekte-39kulturnoe-nasledie-rossii39', 'https://kpfu.ru/direkciya-sportivnyh-kompleksov', 'https://kpfu.ru/direkciya-sportivnyh-kompleksov/programma-ozdorovleniya-rabotnikov', 'https://kpfu.ru/social/poleznye-ssylki', 'https://kpfu.ru/social/nauka-i-universitety', 'https://kpfu.ru/chelny/kiber-avto-teh', 'https://kpfu.ru/do/uchebnyj-process/osnovnye-obrazovatelnye-programmy', 'https://kpfu.ru/do/uchebnyj-process/uchebnye-plany', 'https://kpfu.ru/prioritetnye-napravleniya', 'https://kpfu.ru/science/konkursy-i-granty/konkursy-i-granty', 'https://kpfu.ru/science/upravlenie-nauchno-issledovatelskoj-deyatelnosti', 'https://kpfu.ru/ictis/mobilnye-prilozheniya', 'https://kpfu.ru/sveden/struct/upravlencheskie-podrazdeleniya/intellektualnaya-sobstvennost/obekty-intellektualnoj-sobstvennosti', 'https://kpfu.ru/institutes/institut-upravleniya-ekonomiki-i-finansov/struktura/kafedry/otkrytyj-institut-innovacionnogo', 'https://kpfu.ru/department-of-security/bezopasnost-universiteta/antikorrupcionnaya-deyatelnost', 'https://kpfu.ru/department-of-security/bezopasnost-universiteta/antiterroristicheskaya-deyatelnost', 'https://kpfu.ru/department-of-security/bezopasnost-universiteta/centr-mediacii', 'https://kpfu.ru/department-of-security/bezopasnost-universiteta/profilaktika-narkomanii-v-molodezhnoj-srede', 'https://kpfu.ru/department-of-security/bezopasnost-universiteta/pravila-i-normy-lichnoj-bezopasnosti', 'https://kpfu.ru/department-of-security/bezopasnost-universiteta/telefon-doveriya', 'https://kpfu.ru/department-of-security/bezopasnost-universiteta/dezhurno-dispetcherskoj-sluzhba', 'https://kpfu.ru/sveden/common/', 'https://kpfu.ru/admissions', 'https://kpfu.ru/mailto:priem@kpfu.ru', 'https://kpfu.ru/mailto:public.mail@kpfu.ru', 'https://kpfu.ru/mailto:pressa@kpfu.ru', 'https://kpfu.ru/mailto:work@kpfu.ru', 'https://kpfu.ru/mailto:admission@kpfu.ru', 'https://kpfu.ru/main_page?p_sub=123651&p_view=1', 'https://kpfu.ru/main_page?p_cid=402778&p_view=1&p_random=347', 'https://kpfu.ru/cpr/strategicheskie-programmy/prioritet-2030', 'https://kpfu.ru/about_university/strategicheskie-partnery', 'https://kpfu.ru/edu/distancionnoe-obuchenie-v-kfu', 'https://kpfu.ru/international/proekty-i-granty', 'https://kpfu.ru/international/centry-mezhdunarodnogo-sotrudnichestva', 'https://kpfu.ru/international/yazykovoe-testirovanie', 'https://kpfu.ru/international/buddy-programm', 'https://kpfu.ru/ictis/obuchenie-cherez-microsoft-teams', 'https://kpfu.ru/main_page?p_sub=88', 'https://kpfu.ru/physical', 'https://kpfu.ru/ino', 'https://kpfu.ru/main_page?p_sub=22881', 'https://kpfu.ru/imoiv', 'https://kpfu.ru/institutes/isfnmk', 'https://kpfu.ru/institutes/institut-upravleniya-ekonomiki-i-finansov', 'https://kpfu.ru/institutes/institut-dizajna-i-prostranstvennyh-iskusstv', 'https://kpfu.ru/chelny', 'https://kpfu.ru/elabuga']\n"
          ]
        }
      ]
    }
  ]
}
